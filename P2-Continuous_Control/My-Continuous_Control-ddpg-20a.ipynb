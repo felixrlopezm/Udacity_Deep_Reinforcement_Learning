{
 "cells": [
  {
   "cell_type": "markdown",
   "metadata": {},
   "source": [
    "# Project 2: Continuous Control\n",
    "\n",
    "---\n",
    "\n",
    "### Preliminary actions"
   ]
  },
  {
   "cell_type": "code",
   "execution_count": 1,
   "metadata": {},
   "outputs": [
    {
     "name": "stdout",
     "output_type": "stream",
     "text": [
      "device: cpu\n"
     ]
    }
   ],
   "source": [
    "# Importing the necessary packages\n",
    "import numpy as np\n",
    "import torch\n",
    "import matplotlib\n",
    "import matplotlib.pyplot as plt\n",
    "\n",
    "from collections import deque\n",
    "from unityagents import UnityEnvironment\n",
    "\n",
    "from ddpg_agent import Agent"
   ]
  },
  {
   "cell_type": "markdown",
   "metadata": {},
   "source": [
    "**IMPORTANT**: introduce in the following cell, in `file_name`, the path to the file of the REACHER evironment."
   ]
  },
  {
   "cell_type": "code",
   "execution_count": 2,
   "metadata": {},
   "outputs": [
    {
     "name": "stderr",
     "output_type": "stream",
     "text": [
      "INFO:unityagents:\n",
      "'Academy' started successfully!\n",
      "Unity Academy name: Academy\n",
      "        Number of Brains: 1\n",
      "        Number of External Brains : 1\n",
      "        Lesson number : 0\n",
      "        Reset Parameters :\n",
      "\t\tgoal_speed -> 1.0\n",
      "\t\tgoal_size -> 5.0\n",
      "Unity brain name: ReacherBrain\n",
      "        Number of Visual Observations (per agent): 0\n",
      "        Vector Observation space type: continuous\n",
      "        Vector Observation space size (per agent): 33\n",
      "        Number of stacked Vector Observation: 1\n",
      "        Vector Action space type: continuous\n",
      "        Vector Action space size (per agent): 4\n",
      "        Vector Action descriptions: , , , \n"
     ]
    }
   ],
   "source": [
    "# Launching the environment\n",
    "#env = UnityEnvironment(file_name='Reacher.app')      # single-agent version\n",
    "env = UnityEnvironment(file_name='Reacher-20.app')    # 20-agent version"
   ]
  },
  {
   "cell_type": "markdown",
   "metadata": {},
   "source": [
    "Unity ML-Agents environments contain **_brains_** which are responsible for deciding the actions of their associated agents. Here we check for the first brain available, and set it as the default brain we will be controlling from Python."
   ]
  },
  {
   "cell_type": "code",
   "execution_count": 3,
   "metadata": {},
   "outputs": [
    {
     "name": "stdout",
     "output_type": "stream",
     "text": [
      "Number of available brains: 1\n",
      "Name of the brains: ['ReacherBrain']\n",
      "Unity brain name: ReacherBrain\n",
      "        Number of Visual Observations (per agent): 0\n",
      "        Vector Observation space type: continuous\n",
      "        Vector Observation space size (per agent): 33\n",
      "        Number of stacked Vector Observation: 1\n",
      "        Vector Action space type: continuous\n",
      "        Vector Action space size (per agent): 4\n",
      "        Vector Action descriptions: , , , \n"
     ]
    }
   ],
   "source": [
    "# Getting and selecting the default brain\n",
    "brain_names = env.brain_names\n",
    "print('Number of available brains:',len(brain_names))\n",
    "print('Name of the brains:',brain_names)\n",
    "\n",
    "brain_name = brain_names[0]          # Getting the name of the first brain\n",
    "brain = env.brains[brain_name]       # Initializing the brain\n",
    "print(brain)"
   ]
  },
  {
   "cell_type": "code",
   "execution_count": 4,
   "metadata": {},
   "outputs": [
    {
     "name": "stdout",
     "output_type": "stream",
     "text": [
      "Number of agents: 20\n",
      "Action space size: 4\n",
      "There are 20 agents. Each observes a state with length: 33\n",
      "The state for the first agent looks like: [ 0.00000000e+00 -4.00000000e+00  0.00000000e+00  1.00000000e+00\n",
      " -0.00000000e+00 -0.00000000e+00 -4.37113883e-08  0.00000000e+00\n",
      "  0.00000000e+00  0.00000000e+00  0.00000000e+00  0.00000000e+00\n",
      "  0.00000000e+00  0.00000000e+00 -1.00000000e+01  0.00000000e+00\n",
      "  1.00000000e+00 -0.00000000e+00 -0.00000000e+00 -4.37113883e-08\n",
      "  0.00000000e+00  0.00000000e+00  0.00000000e+00  0.00000000e+00\n",
      "  0.00000000e+00  0.00000000e+00  5.75471878e+00 -1.00000000e+00\n",
      "  5.55726624e+00  0.00000000e+00  1.00000000e+00  0.00000000e+00\n",
      " -1.68164849e-01]\n"
     ]
    }
   ],
   "source": [
    "# Reseting the environment\n",
    "env_data = env.reset(train_mode=True)[brain_name]\n",
    "\n",
    "# Number of agents in the environment\n",
    "num_agents = len(env_data.agents)\n",
    "print('Number of agents:', num_agents)\n",
    "\n",
    "# Action space size\n",
    "action_size = brain.vector_action_space_size\n",
    "print('Action space size:', action_size)\n",
    "\n",
    "# State space size \n",
    "states = env_data.vector_observations\n",
    "state_size = states.shape[1]\n",
    "print('There are {} agents. Each observes a state with length: {}'.format(states.shape[0], state_size))\n",
    "print('The state for the first agent looks like:', states[0])"
   ]
  },
  {
   "cell_type": "markdown",
   "metadata": {},
   "source": [
    "### Training the Agent with DDPG algorithm"
   ]
  },
  {
   "cell_type": "code",
   "execution_count": 5,
   "metadata": {},
   "outputs": [],
   "source": [
    "# Hyperparameters definition\n",
    "hyperparameters = {\n",
    "    'FC1': 128,               # Actor/Critic network: nodes at 1st hidden layer\n",
    "    'FC2': 128,               # Actor/Critic network: nodes at 2nd hidden layer\n",
    "    'BUFFER_SIZE': int(1e5),  # Replay buffer size\n",
    "    'BATCH_SIZE': 128,        # Minibatch size\n",
    "    'GAMMA': 0.93,            # Discount factor\n",
    "    'TAU': 1e-3,              # For soft update of target parameters\n",
    "    'LR_ACTOR': 5e-4,         # Learning rate of the actor\n",
    "    'LR_CRITIC': 1e-4,        # Learning rate of the critic\n",
    "    'WEIGHT_DECAY': 0,        # Critic network L2 weight decay\n",
    "    'UPDATE_EVERY': 20,       # Update rate\n",
    "    'N_UPDATES': 10,          # Update passes\n",
    "    'MU': 0.0,                # Parameter for Ornstein-Uhlenbeck noise\n",
    "    'SIGMA': 0.05,            # Parameter for Ornstein-Uhlenbeck noise\n",
    "    'THETA': 0.10,            # Parameter for Ornstein-Uhlenbeck noise\n",
    "    'RANDOM_SEED': 4          # Seed for random generation (to allow repetitiveness)\n",
    "     }"
   ]
  },
  {
   "cell_type": "code",
   "execution_count": 6,
   "metadata": {},
   "outputs": [],
   "source": [
    "# Initializing the DDPG agent (from ddpg_agent.py file)\n",
    "agent = Agent(state_size=state_size, action_size=action_size, hyperparameters=hyperparameters)"
   ]
  },
  {
   "cell_type": "code",
   "execution_count": 7,
   "metadata": {},
   "outputs": [],
   "source": [
    "# Defining the training process\n",
    "def ddpg_training(n_episodes=200, print_every=10):\n",
    "    scores_window = deque(maxlen=100)               # Initialize list of last 100 scores\n",
    "    scores = []                                     # Initialize list containing score for each episode\n",
    "    not_solved = True                               # initialize not_solved contro\n",
    "    solved_episode = 0                              # Initialize episode for average score over threshold\n",
    "    solved_av_score = 0                             # Initialize average score when solved\n",
    "    max_av_score = 0                                # Initialize maximum average score\n",
    "    max_av_score_episode = 0                        # Initialize episode at maximum average score\n",
    "\n",
    "    \n",
    "    # Episode loop\n",
    "    for i_episode in range(1, n_episodes+1):\n",
    "        env_data = env.reset(train_mode=True)[brain_name]    # Reset environment in TRAINING MODE\n",
    "        states = env_data.vector_observations                # Get the first state\n",
    "        agent.reset()                                        # Reset smart agent (noise)\n",
    "        \n",
    "        score = np.zeros(num_agents)                         # Initialize score counter\n",
    "        t = 0                                                # Initialize time step counter\n",
    "        \n",
    "        # Trajectory loop\n",
    "        while True:\n",
    "            actions = agent.act(states)                      # Get action from policy (one per agent)\n",
    "            \n",
    "            env_data = env.step(actions)[brain_name]         # Interaction with the environment\n",
    "            next_states = env_data.vector_observations       # Get the next state (one per agent)\n",
    "            rewards = env_data.rewards                       # Get the reward (one per agent)\n",
    "            dones = env_data.local_done                      # Get the done code (one per agent)\n",
    "\n",
    "            agent.step20(states, actions, rewards, next_states, dones, t)   # Agent's process: gather experiences and learn\n",
    "            \n",
    "            states = next_states                 # Roll over states for next iteration\n",
    "            score += rewards                     # Add time step reward to total trajectory score\n",
    "            t += 1                               # +a at time step counter\n",
    "            \n",
    "            if np.any(dones):                    # Break trajectory loop if episode finishes (done=True)\n",
    "                break\n",
    "            \n",
    "\n",
    "        scores_window.append(np.mean(score))     # Append 20-agent mean total score of the trajectory to last 100 scores list\n",
    "        scores.append(np.mean(score))            # Append 20-agent mean total score of the trajectory to scores list\n",
    "        \n",
    "        # Printing training log\n",
    "        print('\\rEpisode {}\\tAverage Score: {:.2f}\\tScore: {:.2f}'.format(i_episode, np.mean(scores_window), np.mean(score)), end='')\n",
    "        \n",
    "        if i_episode % print_every == 0:\n",
    "            print('\\rEpisode {}\\tAverage Score: {:.2f}\\tScore: {:.2f}'.format(i_episode, np.mean(scores_window), np.mean(score)))\n",
    "            \n",
    "        if (np.mean(scores_window) >= 30.0) and not_solved:\n",
    "            solved_episode = i_episode\n",
    "            solved_av_score = np.mean(scores_window)\n",
    "            not_solved = False\n",
    "            \n",
    "        # Saving agent and critic checkpoint files\n",
    "        if np.mean(scores_window) >= max_av_score:\n",
    "            max_av_score = np.mean(scores_window)\n",
    "            max_av_score_episode = i_episode\n",
    "            torch.save(agent.actor_local.state_dict(), 'trained_actor-ddpg.pth')\n",
    "            torch.save(agent.critic_local.state_dict(), 'trained_critic-ddpg.pth')\n",
    "            \n",
    "    print('\\n')        \n",
    "    print('Problem solved in {:d} episodes with an average score of {:.2f}'.format(solved_episode, solved_av_score))\n",
    "    print('Maximum average score {:.2f}, reached at episode {:d}'.format(max_av_score, max_av_score_episode))\n",
    "            \n",
    "    return scores"
   ]
  },
  {
   "cell_type": "code",
   "execution_count": 8,
   "metadata": {},
   "outputs": [
    {
     "name": "stdout",
     "output_type": "stream",
     "text": [
      "Episode 10\tAverage Score: 0.85\tScore: 0.91\n",
      "Episode 20\tAverage Score: 1.07\tScore: 1.51\n",
      "Episode 30\tAverage Score: 1.46\tScore: 2.39\n",
      "Episode 40\tAverage Score: 1.89\tScore: 3.43\n",
      "Episode 50\tAverage Score: 2.43\tScore: 6.05\n",
      "Episode 60\tAverage Score: 3.42\tScore: 11.24\n",
      "Episode 70\tAverage Score: 5.07\tScore: 18.91\n",
      "Episode 80\tAverage Score: 7.87\tScore: 31.76\n",
      "Episode 90\tAverage Score: 10.94\tScore: 35.90\n",
      "Episode 100\tAverage Score: 13.60\tScore: 37.44\n",
      "Episode 110\tAverage Score: 17.26\tScore: 37.77\n",
      "Episode 120\tAverage Score: 21.01\tScore: 38.13\n",
      "Episode 130\tAverage Score: 24.62\tScore: 36.97\n",
      "Episode 140\tAverage Score: 28.15\tScore: 37.76\n",
      "Episode 150\tAverage Score: 31.52\tScore: 37.08\n",
      "\n",
      "\n",
      "Problem solved in 146 episodes with an average score of 30.20\n",
      "Maximum average score 31.52, reached at episode 150\n"
     ]
    }
   ],
   "source": [
    "# Lauching the training process\n",
    "scores = ddpg_training(n_episodes=150)"
   ]
  },
  {
   "cell_type": "code",
   "execution_count": 9,
   "metadata": {},
   "outputs": [
    {
     "data": {
      "image/png": "[encoded data removed]",
      "text/plain": [
       "<Figure size 432x288 with 1 Axes>"
      ]
     },
     "metadata": {
      "needs_background": "light"
     },
     "output_type": "display_data"
    }
   ],
   "source": [
    "# Ploting the scores evolution during training.\n",
    "fig = plt.figure()\n",
    "ax = fig.add_subplot(111)\n",
    "plt.plot(np.arange(1, len(scores)+1), scores)\n",
    "plt.ylabel('Score')\n",
    "plt.xlabel('Episode #')\n",
    "plt.show()"
   ]
  },
  {
   "cell_type": "markdown",
   "metadata": {},
   "source": [
    "### Checking agent performance"
   ]
  },
  {
   "cell_type": "code",
   "execution_count": null,
   "metadata": {},
   "outputs": [],
   "source": [
    "# Load actor and critic weights from file (if needed)\n",
    "agent.actor_local.load_state_dict(torch.load('trained_actor-ddpg.pth'))\n",
    "agent.critic_local.load_state_dict(torch.load('trained_critic-ddpg.pth'))"
   ]
  },
  {
   "cell_type": "code",
   "execution_count": 10,
   "metadata": {},
   "outputs": [
    {
     "name": "stdout",
     "output_type": "stream",
     "text": [
      "Smart Agent Score (averaged over all 20 agents): 37.60\n"
     ]
    }
   ],
   "source": [
    "# Checking the performance of the trained agent\n",
    "env_data = env.reset(train_mode=False)[brain_name]     # Reset environment\n",
    "states = env_data.vector_observations                  # Get the first state (for each agent)\n",
    "scores = np.zeros(num_agents)                          # Initialize the score (for each agent)\n",
    "\n",
    "while True:\n",
    "    actions = agent.act(states)                        # Get action from policy (one per agent)\n",
    "    env_data = env.step(actions)[brain_name]           # Interaction with the environment\n",
    "    next_states = env_data.vector_observations         # get next state (for each agent)\n",
    "    rewards = env_data.rewards                         # get reward (for each agent)\n",
    "    dones = env_data.local_done                        # See if episode finished\n",
    "    scores += env_data.rewards                         # Add the reward to the total score (for each agent)\n",
    "    states = next_states                               # Roll over states to next time step\n",
    "    if np.any(dones):                                  # Exit loop if episode finished\n",
    "        break\n",
    "        \n",
    "print('Smart Agent Score (averaged over all 20 agents): {:.2f}'.format(np.mean(scores)))"
   ]
  },
  {
   "cell_type": "code",
   "execution_count": 11,
   "metadata": {},
   "outputs": [
    {
     "name": "stdout",
     "output_type": "stream",
     "text": [
      "Random Agent Score (averaged over all 20 agents): 0.23\n"
     ]
    }
   ],
   "source": [
    "# Taking random actions in the Environment\n",
    "env_info = env.reset(train_mode=False)[brain_name]     # Reset the environment    \n",
    "states = env_info.vector_observations                  # Get the first state (for each agent)\n",
    "scores = np.zeros(num_agents)                          # Initialize the score (for each agent)\n",
    "\n",
    "while True:\n",
    "    actions = np.random.randn(num_agents, action_size) # eslect a random action (for each agent)\n",
    "    actions = np.clip(actions, -1, 1)                  # Clip all actions between -1 and 1\n",
    "    env_info = env.step(actions)[brain_name]           # Interaction with the environment\n",
    "    next_states = env_info.vector_observations         # Get next state (for each agent)\n",
    "    rewards = env_info.rewards                         # Get reward (for each agent)\n",
    "    dones = env_info.local_done                        # See if episode finished\n",
    "    scores += env_info.rewards                         # Update the score (for each agent)\n",
    "    states = next_states                               # Roll over states to next time step\n",
    "    if np.any(dones):                                  # Exit loop if episode finished\n",
    "        break\n",
    "\n",
    "print(\"Random Agent Score (averaged over all 20 agents): {:.2f}\".format(np.mean(scores)))"
   ]
  },
  {
   "cell_type": "markdown",
   "metadata": {},
   "source": [
    "### Closing the environment"
   ]
  },
  {
   "cell_type": "code",
   "execution_count": 12,
   "metadata": {},
   "outputs": [],
   "source": [
    "# Closing the environment\n",
    "env.close()"
   ]
  }
 ],
 "metadata": {
  "kernelspec": {
   "display_name": "drlnd",
   "language": "python",
   "name": "drlnd"
  },
  "language_info": {
   "codemirror_mode": {
    "name": "ipython",
    "version": 3
   },
   "file_extension": ".py",
   "mimetype": "text/x-python",
   "name": "python",
   "nbconvert_exporter": "python",
   "pygments_lexer": "ipython3",
   "version": "3.6.13"
  }
 },
 "nbformat": 4,
 "nbformat_minor": 2
}
