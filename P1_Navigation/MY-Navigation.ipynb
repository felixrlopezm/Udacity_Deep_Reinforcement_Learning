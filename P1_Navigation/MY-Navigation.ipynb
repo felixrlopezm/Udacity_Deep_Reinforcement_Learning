{
 "cells": [
  {
   "cell_type": "markdown",
   "metadata": {},
   "source": [
    "# Project 1: Navigation\n",
    "\n",
    "### Preliminary actions"
   ]
  },
  {
   "cell_type": "code",
   "execution_count": 1,
   "metadata": {},
   "outputs": [],
   "source": [
    "# Importing the necessary packages\n",
    "from unityagents import UnityEnvironment\n",
    "import numpy as np\n",
    "from collections import deque\n",
    "import matplotlib.pyplot as plt\n",
    "import torch\n",
    "\n",
    "from dqn_agent import Agent"
   ]
  },
  {
   "cell_type": "markdown",
   "metadata": {},
   "source": [
    "IMPORTANT: introduce in the following cell the path to file of the Banana collector evironment."
   ]
  },
  {
   "cell_type": "code",
   "execution_count": 2,
   "metadata": {},
   "outputs": [
    {
     "name": "stderr",
     "output_type": "stream",
     "text": [
      "INFO:unityagents:\n",
      "'Academy' started successfully!\n",
      "Unity Academy name: Academy\n",
      "        Number of Brains: 1\n",
      "        Number of External Brains : 1\n",
      "        Lesson number : 0\n",
      "        Reset Parameters :\n",
      "\t\t\n",
      "Unity brain name: BananaBrain\n",
      "        Number of Visual Observations (per agent): 0\n",
      "        Vector Observation space type: continuous\n",
      "        Vector Observation space size (per agent): 37\n",
      "        Number of stacked Vector Observation: 1\n",
      "        Vector Action space type: discrete\n",
      "        Vector Action space size (per agent): 4\n",
      "        Vector Action descriptions: , , , \n"
     ]
    }
   ],
   "source": [
    "# Instantiating the environment\n",
    "env = UnityEnvironment(file_name=\"Banana.app\")"
   ]
  },
  {
   "cell_type": "markdown",
   "metadata": {},
   "source": [
    "Unity ML-Agents environments contain **_brains_** which are responsible for deciding the actions of their associated agents. Here we check for the brains available. There is only one and, therefore, it is  set as the default brain. It will be controlled from Python."
   ]
  },
  {
   "cell_type": "code",
   "execution_count": 3,
   "metadata": {},
   "outputs": [
    {
     "name": "stdout",
     "output_type": "stream",
     "text": [
      "Available brains: ['BananaBrain']\n",
      "Unity brain name: BananaBrain\n",
      "        Number of Visual Observations (per agent): 0\n",
      "        Vector Observation space type: continuous\n",
      "        Vector Observation space size (per agent): 37\n",
      "        Number of stacked Vector Observation: 1\n",
      "        Vector Action space type: discrete\n",
      "        Vector Action space size (per agent): 4\n",
      "        Vector Action descriptions: , , , \n"
     ]
    }
   ],
   "source": [
    "# Getting and selecting the default brain\n",
    "brain_names = env.brain_names\n",
    "print('Available brains:',brain_names)\n",
    "brain = env.brains[brain_names[0]]\n",
    "print(brain)"
   ]
  },
  {
   "cell_type": "code",
   "execution_count": 4,
   "metadata": {},
   "outputs": [],
   "source": [
    "# Reseting the environment\n",
    "env_info = env.reset(train_mode=False)[brain_names[0]]\n",
    "\n",
    "# Number of actions\n",
    "action_size = brain.vector_action_space_size\n",
    "\n",
    "# State space dimension\n",
    "state_size = len(env_info.vector_observations[0])"
   ]
  },
  {
   "cell_type": "code",
   "execution_count": 5,
   "metadata": {},
   "outputs": [],
   "source": [
    "# Initialize agent\n",
    "agent = Agent(state_size = state_size, action_size = action_size, seed=0)"
   ]
  },
  {
   "cell_type": "markdown",
   "metadata": {},
   "source": [
    "### Training the Agent with DQN algorithm"
   ]
  },
  {
   "cell_type": "code",
   "execution_count": 6,
   "metadata": {},
   "outputs": [],
   "source": [
    "def dqn_training(n_episodes=2000, max_t=300, eps_start=1.0, eps_end=0.01, eps_decay=0.995):\n",
    "    \"\"\"Deep Q-Learning.\n",
    "    \n",
    "    Params\n",
    "    ======\n",
    "        n_episodes (int): maximum number of training episodes\n",
    "        max_t (int): maximum number of timesteps per episode\n",
    "        eps_start (float): starting value of epsilon, for epsilon-greedy action selection\n",
    "        eps_end (float): minimum value of epsilon\n",
    "        eps_decay (float): multiplicative factor (per episode) for decreasing epsilon\n",
    "    \"\"\"\n",
    "    scores = []                        # list containing scores from each episode\n",
    "    scores_window = deque(maxlen=100)  # last 100 scores\n",
    "    not_solved = True                  # initialize not_solved control\n",
    "    solved_episode = 0                 # initialize episode for average score over threshold\n",
    "    solved_av_score = 0                # initialize average score when solved\n",
    "    max_av_score = 0                   # initialize maximum average score\n",
    "    max_av_score_episode = 0           # initialize episode at maximum average score\n",
    "    eps = eps_start                    # initialize epsilon\n",
    "    \n",
    "    for i_episode in range(1, n_episodes+1):\n",
    "        env_info = env.reset(train_mode=True)[brain_names[0]] # reset environment in traing Mode\n",
    "        state = env_info.vector_observations[0]                # get the current state\n",
    "        score = 0                                              # initialize the score\n",
    "        \n",
    "        for t in range(max_t):\n",
    "            action = agent.act(state, eps)\n",
    "            env_info = env.step(action)[brain_names[0]]         # send the action to the environment\n",
    "            next_state = env_info.vector_observations[0]        # get the next state\n",
    "            reward = env_info.rewards[0]                        # get the reward\n",
    "            done = env_info.local_done[0]                       # get the done code\n",
    "            agent.step(state, action, reward, next_state, done) # carry out agent's process: sample and learn\n",
    "            state = next_state\n",
    "            score += reward                                     # update the score\n",
    "            if done:\n",
    "                break \n",
    "                \n",
    "        scores_window.append(score)       # save most recent score\n",
    "        scores.append(score)              # save most recent score\n",
    "        eps = max(eps_end, eps_decay*eps) # decrease epsilon\n",
    "        \n",
    "        print('\\rEpisode {}\\tAverage Score: {:.2f}'.format(i_episode, np.mean(scores_window)), end=\"\")\n",
    "        \n",
    "        if i_episode % 100 == 0:\n",
    "            print('\\rEpisode {}\\tAverage Score: {:.2f}'.format(i_episode, np.mean(scores_window)))\n",
    "            \n",
    "        if (np.mean(scores_window) >= 13.0) and not_solved:\n",
    "            solved_episode = i_episode\n",
    "            solved_av_score = np.mean(scores_window)\n",
    "            not_solved = False\n",
    "            \n",
    "        if np.mean(scores_window) >= max_av_score:\n",
    "            max_av_score = np.mean(scores_window)\n",
    "            max_av_score_episode = i_episode\n",
    "            torch.save(agent.qnetwork_local.state_dict(), 'banana_collector_DQN_agent.pth')\n",
    "    \n",
    "    print('\\n')        \n",
    "    print('Problem solved in {:d} episodes with an average score of {:.2f}'.format(solved_episode, solved_av_score))\n",
    "    print('Maximum average score {:.2f}, reached at episode {:d}'.format(max_av_score, max_av_score_episode))  \n",
    "    \n",
    "    return scores"
   ]
  },
  {
   "cell_type": "code",
   "execution_count": 7,
   "metadata": {
    "scrolled": true
   },
   "outputs": [
    {
     "name": "stdout",
     "output_type": "stream",
     "text": [
      "Episode 100\tAverage Score: 1.06\n",
      "Episode 200\tAverage Score: 4.35\n",
      "Episode 300\tAverage Score: 6.79\n",
      "Episode 400\tAverage Score: 10.19\n",
      "Episode 500\tAverage Score: 12.03\n",
      "Episode 600\tAverage Score: 13.67\n",
      "Episode 700\tAverage Score: 15.20\n",
      "Episode 800\tAverage Score: 15.98\n",
      "Episode 900\tAverage Score: 16.10\n",
      "Episode 1000\tAverage Score: 16.50\n",
      "Episode 1100\tAverage Score: 16.28\n",
      "Episode 1200\tAverage Score: 16.54\n",
      "Episode 1300\tAverage Score: 16.58\n",
      "Episode 1400\tAverage Score: 16.37\n",
      "Episode 1500\tAverage Score: 17.20\n",
      "Episode 1600\tAverage Score: 16.52\n",
      "Episode 1700\tAverage Score: 16.12\n",
      "Episode 1800\tAverage Score: 16.69\n",
      "Episode 1900\tAverage Score: 16.41\n",
      "Episode 2000\tAverage Score: 16.46\n",
      "\n",
      "\n",
      "Problem solved in 549 episodes with an average score of 13.04\n",
      "Maximum average score 17.48, reached at episode 1482\n"
     ]
    },
    {
     "data": {
      "image/png": "[encoded data removed]",
      "text/plain": [
       "<Figure size 432x288 with 1 Axes>"
      ]
     },
     "metadata": {
      "needs_background": "light"
     },
     "output_type": "display_data"
    }
   ],
   "source": [
    "# Launching the training process\n",
    "scores = dqn_training()\n",
    "\n",
    "# Plotting the scores\n",
    "fig = plt.figure()\n",
    "ax = fig.add_subplot(111)\n",
    "plt.plot(np.arange(len(scores)), scores)\n",
    "plt.ylabel('Score')\n",
    "plt.xlabel('Episode #')\n",
    "plt.show()"
   ]
  },
  {
   "cell_type": "markdown",
   "metadata": {},
   "source": [
    "### Checking agent performance"
   ]
  },
  {
   "cell_type": "code",
   "execution_count": 8,
   "metadata": {},
   "outputs": [],
   "source": [
    "# Load the weights from file (if needed)\n",
    "agent.qnetwork_local.load_state_dict(torch.load('banana_collector_DQN_agent.pth'))"
   ]
  },
  {
   "cell_type": "code",
   "execution_count": 9,
   "metadata": {},
   "outputs": [
    {
     "name": "stdout",
     "output_type": "stream",
     "text": [
      "Smart Agent Score: 16.0\n"
     ]
    }
   ],
   "source": [
    "# Checking the performance the trained agent in the Environment\n",
    "env_info = env.reset(train_mode=False)[brain_names[0]] # reset the environment\n",
    "state = env_info.vector_observations[0]                # get the current state\n",
    "score = 0                                              # initialize the score\n",
    "\n",
    "while True:\n",
    "    action = agent.act(state, eps=0.0)                 # select an action\n",
    "    env_info = env.step(action)[brain_names[0]]        # send the action to the environment\n",
    "    next_state = env_info.vector_observations[0]       # get the next state\n",
    "    reward = env_info.rewards[0]                       # get the reward\n",
    "    done = env_info.local_done[0]                      # see if episode has finished\n",
    "    score += reward                                    # update the score\n",
    "    state = next_state                                 # roll over the state to next time step\n",
    "    if done:                                          # exit loop if episode finished\n",
    "        break\n",
    "    \n",
    "print(\"Smart Agent Score: {}\".format(score))"
   ]
  },
  {
   "cell_type": "code",
   "execution_count": 10,
   "metadata": {},
   "outputs": [
    {
     "name": "stdout",
     "output_type": "stream",
     "text": [
      "Random Agent Score: 1.0\n"
     ]
    }
   ],
   "source": [
    "# Taking random actions in the Environment\n",
    "env_info = env.reset(train_mode=False)[brain_names[0]] # reset the environment\n",
    "state = env_info.vector_observations[0]            # get the current state\n",
    "score = 0                                          # initialize the score\n",
    "\n",
    "while True:\n",
    "    action = np.random.randint(action_size)        # select an action\n",
    "    env_info = env.step(action)[brain_names[0]]        # send the action to the environment\n",
    "    next_state = env_info.vector_observations[0]   # get the next state\n",
    "    reward = env_info.rewards[0]                   # get the reward\n",
    "    done = env_info.local_done[0]                  # see if episode has finished\n",
    "    score += reward                                # update the score\n",
    "    state = next_state                             # roll over the state to next time step\n",
    "    if done:                                       # exit loop if episode finished\n",
    "        break\n",
    "    \n",
    "print(\"Random Agent Score: {}\".format(score))"
   ]
  },
  {
   "cell_type": "markdown",
   "metadata": {},
   "source": [
    "### Closing the environment"
   ]
  },
  {
   "cell_type": "code",
   "execution_count": 11,
   "metadata": {},
   "outputs": [],
   "source": [
    "# Closing the environment\n",
    "env.close()"
   ]
  }
 ],
 "metadata": {
  "kernelspec": {
   "display_name": "drlnd",
   "language": "python",
   "name": "drlnd"
  },
  "language_info": {
   "codemirror_mode": {
    "name": "ipython",
    "version": 3
   },
   "file_extension": ".py",
   "mimetype": "text/x-python",
   "name": "python",
   "nbconvert_exporter": "python",
   "pygments_lexer": "ipython3",
   "version": "3.6.13"
  }
 },
 "nbformat": 4,
 "nbformat_minor": 2
}
