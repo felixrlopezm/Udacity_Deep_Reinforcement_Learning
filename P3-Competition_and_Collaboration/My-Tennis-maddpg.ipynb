{
 "cells": [
  {
   "cell_type": "markdown",
   "metadata": {},
   "source": [
    "# Project 3: Collaboration and Competition. Tennis\n",
    "\n",
    "---\n",
    "\n",
    "### Preliminary actions"
   ]
  },
  {
   "cell_type": "code",
   "execution_count": 1,
   "metadata": {},
   "outputs": [
    {
     "name": "stdout",
     "output_type": "stream",
     "text": [
      "device: cpu\n"
     ]
    }
   ],
   "source": [
    "import numpy as np\n",
    "import torch\n",
    "import matplotlib\n",
    "import matplotlib.pyplot as plt\n",
    "\n",
    "from collections import deque\n",
    "from unityagents import UnityEnvironment\n",
    "\n",
    "from maddpg_agent import MADDGP_Agent"
   ]
  },
  {
   "cell_type": "markdown",
   "metadata": {},
   "source": [
    "**IMPORTANT**: introduce in the following cell, the path to place where you have stored the file of the TENNIS evironment."
   ]
  },
  {
   "cell_type": "code",
   "execution_count": 2,
   "metadata": {},
   "outputs": [
    {
     "name": "stderr",
     "output_type": "stream",
     "text": [
      "INFO:unityagents:\n",
      "'Academy' started successfully!\n",
      "Unity Academy name: Academy\n",
      "        Number of Brains: 1\n",
      "        Number of External Brains : 1\n",
      "        Lesson number : 0\n",
      "        Reset Parameters :\n",
      "\t\t\n",
      "Unity brain name: TennisBrain\n",
      "        Number of Visual Observations (per agent): 0\n",
      "        Vector Observation space type: continuous\n",
      "        Vector Observation space size (per agent): 8\n",
      "        Number of stacked Vector Observation: 3\n",
      "        Vector Action space type: continuous\n",
      "        Vector Action space size (per agent): 2\n",
      "        Vector Action descriptions: , \n"
     ]
    }
   ],
   "source": [
    "# Launching the environment\n",
    "env = UnityEnvironment(file_name='Tennis.app')"
   ]
  },
  {
   "cell_type": "markdown",
   "metadata": {},
   "source": [
    "Environments contain **_brains_** which are responsible for deciding the actions of their associated agents. Here we check for the first brain available, and set it as the default brain we will be controlling from Python."
   ]
  },
  {
   "cell_type": "code",
   "execution_count": 3,
   "metadata": {},
   "outputs": [
    {
     "name": "stdout",
     "output_type": "stream",
     "text": [
      "Number of available brains: 1\n",
      "Name of the brains: ['TennisBrain']\n",
      "Unity brain name: TennisBrain\n",
      "        Number of Visual Observations (per agent): 0\n",
      "        Vector Observation space type: continuous\n",
      "        Vector Observation space size (per agent): 8\n",
      "        Number of stacked Vector Observation: 3\n",
      "        Vector Action space type: continuous\n",
      "        Vector Action space size (per agent): 2\n",
      "        Vector Action descriptions: , \n"
     ]
    }
   ],
   "source": [
    "# Get and select the default brain\n",
    "brain_names = env.brain_names\n",
    "print('Number of available brains:',len(brain_names))\n",
    "print('Name of the brains:',brain_names)\n",
    "\n",
    "brain_name = brain_names[0]          # Get the name of the first brain\n",
    "brain = env.brains[brain_name]       # Initizlize the brain\n",
    "print(brain)"
   ]
  },
  {
   "cell_type": "code",
   "execution_count": 4,
   "metadata": {},
   "outputs": [
    {
     "name": "stdout",
     "output_type": "stream",
     "text": [
      "Number of agents: 2\n",
      "Size of action space (per agent): 2\n",
      "There are 2 agents. Each observes a state with length: 24\n",
      "The state of any of the agents is made of 8 dimensions x 3 stacked observations = 24 values,\n",
      "and it looks likes this [ 0.          0.          0.          0.          0.          0.\n",
      "  0.          0.          0.          0.          0.          0.\n",
      "  0.          0.          0.          0.         -6.65278625 -1.5\n",
      " -0.          0.          6.83172083  6.         -0.          0.        ]\n"
     ]
    }
   ],
   "source": [
    "# Reset the environment\n",
    "env_data = env.reset(train_mode=True)[brain_name]\n",
    "\n",
    "# Number of agents in the environment\n",
    "num_agents = len(env_data.agents)\n",
    "print('Number of agents:', num_agents)\n",
    "\n",
    "# size of the action space (per agent)\n",
    "action_size = brain.vector_action_space_size\n",
    "print('Size of action space (per agent):', action_size)\n",
    "\n",
    "# Size fo the state space \n",
    "states = env_data.vector_observations\n",
    "state_size = states.shape[1]\n",
    "print('There are {} agents. Each observes a state with length: {}'.format(states.shape[0], state_size))\n",
    "print('The state of any of the agents is made of 8 dimensions x 3 stacked observations = 24 values,')\n",
    "print('and it looks likes this', states[0])"
   ]
  },
  {
   "cell_type": "markdown",
   "metadata": {},
   "source": [
    "### Training the Agent with MADDPG algorithm"
   ]
  },
  {
   "cell_type": "code",
   "execution_count": 5,
   "metadata": {},
   "outputs": [],
   "source": [
    "# Hyperparameters definition\n",
    "hyperparameters = {\n",
    "    'FC1': 190,               # Actor/Critic network: nodes at 1st hidden layer\n",
    "    'FC2': 160,               # Actor/Critic network: nodes at 2nd hidden layer\n",
    "    'BUFFER_SIZE': int(1e6),  # Replay buffer size\n",
    "    'BATCH_SIZE': 256,        # Minibatch size\n",
    "    'GAMMA': 0.99,            # Discount factor\n",
    "    'TAU': 5e-3,              # For soft update of target parameters\n",
    "    'LR_ACTOR': 1e-4,         # Learning rate of the actor\n",
    "    'LR_CRITIC': 5e-4,        # Learning rate of the critic\n",
    "    'WEIGHT_DECAY': 1e-6,     # Critic network L2 weight decay\n",
    "    'UPDATE_EVERY': 1,        # Update rate\n",
    "    'N_UPDATES': 1,           # Update passes\n",
    "    'MU': 0.0,                # Parameter for Ornstein-Uhlenbeck noise\n",
    "    'SIGMA': 0.20,            # Parameter for Ornstein-Uhlenbeck noise\n",
    "    'THETA': 0.15,            # Parameter for Ornstein-Uhlenbeck noise\n",
    "    'RANDOM_SEED': 4,         # Seed for random generation (to allow repetitiveness)\n",
    "    'EPS_INT': 800            # Interval of episodes to decay de noise epsilon (from 1 to 0) \n",
    "     }"
   ]
  },
  {
   "cell_type": "code",
   "execution_count": 6,
   "metadata": {},
   "outputs": [],
   "source": [
    "# Initializing the MADDPG agent (from maddpg_agent.py file)\n",
    "agent = MADDGP_Agent(num_agents=num_agents, state_size=state_size, action_size=action_size, \n",
    "                hyperparameters=hyperparameters)"
   ]
  },
  {
   "cell_type": "code",
   "execution_count": 7,
   "metadata": {},
   "outputs": [],
   "source": [
    "# Defining the training process\n",
    "def maddpg_training(agent, n_episodes=2000, print_every=100):\n",
    "                                                # Initialize:\n",
    "    scores_mean_log = []                        #      list for the log of mean scores\n",
    "    scores_window = deque(maxlen=100)           #      list of last 100 scores\n",
    "    scores = []                                 #      list containing score for each episode\n",
    "    not_solved = True                           #      not_solved control\n",
    "    solved_episode = 0                          #      episode for average score over threshold\n",
    "    solved_av_score = 0                         #      average score when solved\n",
    "    max_av_score = float(\"-inf\")                #      maximum average score\n",
    "    max_av_score_episode = 0                    #      episode at maximum average score\n",
    "    \n",
    "    \n",
    "    for i_episode in range(1, n_episodes+1):                # Episode loop\n",
    "        env_data = env.reset(train_mode=True)[brain_name]   # Reset environment in TRAINING MODE\n",
    "        states = env_data.vector_observations               # Get the first state\n",
    "        agent.reset()                                       # Reset smart agent (= noise process)\n",
    "        \n",
    "        score = np.zeros(num_agents)                        # Initialize score counter\n",
    "        t = 1                                               # Initialize time step counter\n",
    "        \n",
    "        while True:                                         # Trajectory loop\n",
    "            actions = agent.act(states, i_episode,\n",
    "                                add_noise=True)             # Get actions from policy (one per agent)\n",
    "            env_data = env.step(actions)[brain_name]        # Interaction with the environment\n",
    "            \n",
    "            next_states = env_data.vector_observations      # Get the next state (one per agent)\n",
    "            rewards = env_data.rewards                      # Get the reward (one per agent)\n",
    "            dones = env_data.local_done                     # Get the done code (one per agent)\n",
    "\n",
    "            agent.step(states, actions, rewards, next_states, dones)   # Agents' process: gather experiences and learn\n",
    "            \n",
    "            score += rewards                               # Add time step reward to total trajectory score\n",
    "            t += 1                                         # Update of time step counter\n",
    "            \n",
    "            if np.any(dones):                              # Break trajectory loop when episode finishes (done=True)\n",
    "                break\n",
    "                \n",
    "            states = next_states                           # Roll over states for next iteration\n",
    "    \n",
    "        max_score = np.max(score)                          # Evaluate max score of the match from every agent's score\n",
    "        scores.append(max_score)                           # Add max-agent score to score log\n",
    "        scores_window.append(max_score)                    # Add max-agent score to last 100 scores log\n",
    "        scores_mean_log.append(np.mean(scores_window))     # Add mean of the last 100 scores to the log of mean scores\n",
    "        \n",
    "        # Printing training log\n",
    "        print('\\rEpisode {}\\tAverage Score: {:.3f}\\tMax Score: {:.3f}\\tScore: {}\\tGame-steps: {:d} '\n",
    "              .format(i_episode, np.mean(scores_window), max_score, score, t), end='')\n",
    "        \n",
    "        if i_episode % print_every == 0:\n",
    "            print('\\rEpisode {}\\tAverage Score: {:.3f}\\t                  \\t                   \\t                \\t                '\n",
    "                  .format(i_episode, np.mean(scores_window)))\n",
    "        \n",
    "        # Determination if problem solved\n",
    "        if (np.mean(scores_window) >= 0.5) and not_solved:\n",
    "            solved_episode = i_episode\n",
    "            solved_av_score = np.mean(scores_window)\n",
    "            not_solved = False\n",
    "            \n",
    "        # Saving agent and critic checkpoint files with every new max 100-last average socre\n",
    "        if np.mean(scores_window) >= max_av_score:\n",
    "            max_av_score = np.mean(scores_window)\n",
    "            max_av_score_episode = i_episode\n",
    "            for i in range(num_agents):\n",
    "                torch.save(agent.ddpg_agents[i].actor_local.state_dict(), 'trained_actor_{:d}-maddpg.pth'.format(i))\n",
    "                torch.save(agent.ddpg_agents[i].critic_local.state_dict(), 'trained_critic_{:d}-maddpg.pth'.format(i))\n",
    "        \n",
    "        # Stopping the learning process if no improvement in the last 200 episodes\n",
    "        if not_solved == False and i_episode > (max_av_score_episode + 200) and np.mean(scores_window) < max_av_score:\n",
    "            break\n",
    "    \n",
    "    # Printing summary\n",
    "    print('\\n')        \n",
    "    print('Problem solved in {:d} episodes when reached an average score of {:.3f}'.format(solved_episode, solved_av_score))\n",
    "    print('Maximum average score {:.3f}, reached at episode {:d}'.format(max_av_score, max_av_score_episode))\n",
    "            \n",
    "    return scores, scores_mean_log"
   ]
  },
  {
   "cell_type": "code",
   "execution_count": 8,
   "metadata": {},
   "outputs": [
    {
     "name": "stdout",
     "output_type": "stream",
     "text": [
      "Episode 100\tAverage Score: 0.000\t                  \t                   \t                \t                \n",
      "Episode 200\tAverage Score: 0.011\t                  \t                   \t                \t                \n",
      "Episode 300\tAverage Score: 0.023\t                  \t                   \t                \t                \n",
      "Episode 400\tAverage Score: 0.074\t                  \t                   \t                \t                \n",
      "Episode 500\tAverage Score: 0.102\t                  \t                   \t                \t                \n",
      "Episode 600\tAverage Score: 0.099\t                  \t                   \t                \t                \n",
      "Episode 700\tAverage Score: 0.110\t                  \t                   \t                \t                \n",
      "Episode 800\tAverage Score: 0.122\t                  \t                   \t                \t                \n",
      "Episode 900\tAverage Score: 0.154\t                  \t                   \t                \t                \n",
      "Episode 1000\tAverage Score: 0.240\t                  \t                   \t                \t                \n",
      "Episode 1100\tAverage Score: 1.441\t                  \t                   \t                \t                \n",
      "Episode 1200\tAverage Score: 1.970\t                  \t                   \t                \t                \n",
      "Episode 1300\tAverage Score: 1.426\t                  \t                   \t                \t                \n",
      "Episode 1400\tAverage Score: 1.679\t                  \t                   \t                \t                \n",
      "Episode 1426\tAverage Score: 1.703\tMax Score: 2.600\tScore: [2.60000004 2.60000004]\tGame-steps: 1002 \n",
      "\n",
      "Problem solved in 1023 episodes when reached an average score of 0.504\n",
      "Maximum average score 2.004, reached at episode 1225\n"
     ]
    },
    {
     "data": {
      "image/png": "[encoded data removed]",
      "text/plain": [
       "<Figure size 432x288 with 1 Axes>"
      ]
     },
     "metadata": {
      "needs_background": "light"
     },
     "output_type": "display_data"
    }
   ],
   "source": [
    "# Lauching the training process\n",
    "scores, scores_mean_log = maddpg_training(agent, n_episodes=3000)\n",
    "\n",
    "# Ploting the scores evolution during training.\n",
    "fig = plt.figure()\n",
    "ax = fig.add_subplot(111)\n",
    "plt.plot(np.arange(1, len(scores)+1), scores, label='episode max s')\n",
    "plt.plot(np.arange(1, len(scores)+1), scores_mean_log, c='r', label='100-last-score mean')\n",
    "plt.ylabel('Score')\n",
    "plt.xlabel('Episode #')\n",
    "plt.show()"
   ]
  },
  {
   "cell_type": "markdown",
   "metadata": {},
   "source": [
    "### Checking agent performance"
   ]
  },
  {
   "cell_type": "code",
   "execution_count": 9,
   "metadata": {},
   "outputs": [],
   "source": [
    "# Load actor and critic weights from file (if needed)\n",
    "#agent = MADDGP_Agent(num_agents=num_agents, state_size=state_size, action_size=action_size, \n",
    "#                hyperparameters=hyperparameters)\n",
    "\n",
    "#for i in range(num_agents):\n",
    "#    agent.ddpg_agents[i].actor_local.load_state_dict(torch.load('trained_actor_{:d}-maddpg.pth'.format(i)))\n",
    "#    agent.ddpg_agents[i].critic_local.load_state_dict(torch.load('trained_critic_{:d}-maddpg.pth'.format(i)))"
   ]
  },
  {
   "cell_type": "code",
   "execution_count": 10,
   "metadata": {},
   "outputs": [
    {
     "name": "stdout",
     "output_type": "stream",
     "text": [
      "Score (max over agents) at episode 1: 2.700000\n",
      "Score (max over agents) at episode 2: 2.600000\n",
      "Score (max over agents) at episode 3: 2.700000\n",
      "Score (max over agents) at episode 4: 2.600000\n",
      "Score (max over agents) at episode 5: 2.700000\n",
      "\n",
      "Smart Agent average score after 5 episodes: 2.66\n"
     ]
    }
   ],
   "source": [
    "# Checking the performance of the trained agent\n",
    "scores_log = []\n",
    "test_episodes = 5\n",
    "\n",
    "for i in range(0, test_episodes):                          # play game for a number of episodes\n",
    "\n",
    "    scores = np.zeros(num_agents)                          # initialize the score (for each agent)\n",
    "    \n",
    "    env_info = env.reset(train_mode=False)[brain_name]     # reset the environment    \n",
    "    states = env_info.vector_observations                  # get the current state (for each agent)\n",
    "\n",
    "    while True:                                            # play loop\n",
    "        actions = agent.act(states, i, add_noise=False)       # get actions from trained agent\n",
    "        env_data = env.step(actions)[brain_name]           # interact with the environment\n",
    "        \n",
    "        next_states = env_data.vector_observations         # get next state (for each agent)\n",
    "        rewards = env_data.rewards                         # get reward (for each agent)\n",
    "        dones = env_data.local_done                        # see if episode finished\n",
    "        \n",
    "        scores += env_data.rewards                         # update the score (for each agent)\n",
    "        states = next_states                               # roll over states to next time step\n",
    "        \n",
    "        if np.any(dones):                                  # exit loop if episode finished\n",
    "            break\n",
    "            \n",
    "    scores_log.append(np.max(scores))\n",
    "    \n",
    "    print('Score (max over agents) at episode {:d}: {:2f}'.format(i+1, np.max(scores)))\n",
    "\n",
    "\n",
    "print('\\nSmart Agent average score after {:d} episodes: {:.2f}'.format(test_episodes, np.mean(scores_log)))"
   ]
  },
  {
   "cell_type": "code",
   "execution_count": 11,
   "metadata": {},
   "outputs": [
    {
     "name": "stdout",
     "output_type": "stream",
     "text": [
      "Score (max over all agents) at episode 1: 0.000000\n",
      "Score (max over all agents) at episode 2: 0.100000\n",
      "Score (max over all agents) at episode 3: 0.000000\n",
      "Score (max over all agents) at episode 4: 0.000000\n",
      "Score (max over all agents) at episode 5: 0.090000\n",
      "\n",
      "Average score after 5 episodes: 0.038000\n"
     ]
    }
   ],
   "source": [
    "# Checking the performance of the random agent\n",
    "scores_log = []\n",
    "test_episodes = 5\n",
    "\n",
    "for i in range(0, test_episodes):                          # play game for a number of episodes\n",
    "    scores = np.zeros(num_agents)                          # initialize the score (for each agent)\n",
    "    \n",
    "    env_info = env.reset(train_mode=False)[brain_name]     # reset the environment    \n",
    "    states = env_info.vector_observations                  # get the current state (for each agent)\n",
    "\n",
    "    while True:                                            # play loop\n",
    "        actions = np.random.randn(num_agents, action_size) # get random actions (for each agent)\n",
    "        actions = np.clip(actions, -1, 1)                  # clip all actions between -1 and 1\n",
    "        env_info = env.step(actions)[brain_name]           # interact with the environment\n",
    "        \n",
    "        next_states = env_info.vector_observations         # get next state (for each agent)\n",
    "        rewards = env_info.rewards                         # get reward (for each agent)\n",
    "        dones = env_info.local_done                        # see if episode finished\n",
    "        \n",
    "        scores += env_info.rewards                         # update the score (for each agent)\n",
    "        states = next_states                               # roll over states to next time step\n",
    "        \n",
    "        if np.any(dones):                                  # exit loop if episode finished\n",
    "            break\n",
    "            \n",
    "    scores_log.append(np.max(scores))\n",
    "    \n",
    "    print('Score (max over all agents) at episode {:d}: {:2f}'.format(i+1, np.max(scores)))\n",
    "    \n",
    "print('\\nAverage score after {:d} episodes: {:2f}'.format(test_episodes, np.mean(scores_log)))"
   ]
  },
  {
   "cell_type": "markdown",
   "metadata": {},
   "source": [
    "### Closing the environment"
   ]
  },
  {
   "cell_type": "code",
   "execution_count": 12,
   "metadata": {},
   "outputs": [],
   "source": [
    "# Close the environment\n",
    "env.close()"
   ]
  }
 ],
 "metadata": {
  "kernelspec": {
   "display_name": "drlnd",
   "language": "python",
   "name": "drlnd"
  },
  "language_info": {
   "codemirror_mode": {
    "name": "ipython",
    "version": 3
   },
   "file_extension": ".py",
   "mimetype": "text/x-python",
   "name": "python",
   "nbconvert_exporter": "python",
   "pygments_lexer": "ipython3",
   "version": "3.6.13"
  }
 },
 "nbformat": 4,
 "nbformat_minor": 2
}
